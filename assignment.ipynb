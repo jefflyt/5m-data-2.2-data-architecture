{
 "cells": [
  {
   "cell_type": "markdown",
   "id": "91a1909d",
   "metadata": {},
   "source": [
    "# Assignment\n",
    "## Brief\n",
    "Write the Python codes for the following questions.\n",
    "\n",
    "## Instructions\n",
    "Paste the answer as Python in the answer code section below each question."
   ]
  },
  {
   "cell_type": "markdown",
   "id": "2e6d3d22",
   "metadata": {},
   "source": [
    "### Question 1\n",
    "Question: How would you create a new hash in Redis to store information about a person, with `john_doe` as the key and include the name (`John Doe`), age (`35`), and email address (`john@email.com`)?"
   ]
  },
  {
   "cell_type": "code",
   "execution_count": 1,
   "id": "c34d1b4a",
   "metadata": {},
   "outputs": [],
   "source": [
    "import redis\n",
    "\n",
    "r = redis.Redis(\n",
    "  host='redis-10908.c252.ap-southeast-1-1.ec2.cloud.redislabs.com',\n",
    "  port=10908,\n",
    "  password='EgIvxgDuiuk2Sh5VnJzUGXDMtLrtK5Hk')"
   ]
  },
  {
   "cell_type": "code",
   "execution_count": null,
   "id": "746c7fc8",
   "metadata": {},
   "outputs": [],
   "source": [
    "# Answer:\n",
    "r.hset(\n",
    "    'john_doe',\n",
    "    mapping={\n",
    "        \"name\": \"John Doe\",\n",
    "        \"age\": 35,\n",
    "        \"email\": \"john@gmail.com\",\n",
    "    },\n",
    ")"
   ]
  },
  {
   "cell_type": "markdown",
   "id": "cc68290c",
   "metadata": {},
   "source": [
    "### Question 2\n",
    "Question: Write Python code to list the first 10 objects (blob name) in the 'gcp-public-data-landsat' bucket, along with their sizes."
   ]
  },
  {
   "cell_type": "code",
   "execution_count": 2,
   "id": "8c5b600e",
   "metadata": {},
   "outputs": [],
   "source": [
    "from google.cloud import storage\n",
    "\n",
    "client = storage.Client()\n",
    "bucket = client.get_bucket('gcp-public-data-landsat')"
   ]
  },
  {
   "cell_type": "code",
   "execution_count": 9,
   "id": "7f4de03a",
   "metadata": {},
   "outputs": [
    {
     "name": "stdout",
     "output_type": "stream",
     "text": [
      "Blob Name: LC08/01/001/002/LC08_L1GT_001002_20160817_20170322_01_T2/LC08_L1GT_001002_20160817_20170322_01_T2_ANG.txt\n",
      "Blob Size: 117255\n",
      "\n",
      "Blob Name: LC08/01/001/002/LC08_L1GT_001002_20160817_20170322_01_T2/LC08_L1GT_001002_20160817_20170322_01_T2_B1.TIF\n",
      "Blob Size: 75085385\n",
      "\n",
      "Blob Name: LC08/01/001/002/LC08_L1GT_001002_20160817_20170322_01_T2/LC08_L1GT_001002_20160817_20170322_01_T2_B10.TIF\n",
      "Blob Size: 40612836\n",
      "\n",
      "Blob Name: LC08/01/001/002/LC08_L1GT_001002_20160817_20170322_01_T2/LC08_L1GT_001002_20160817_20170322_01_T2_B11.TIF\n",
      "Blob Size: 39267654\n",
      "\n",
      "Blob Name: LC08/01/001/002/LC08_L1GT_001002_20160817_20170322_01_T2/LC08_L1GT_001002_20160817_20170322_01_T2_B2.TIF\n",
      "Blob Size: 76259448\n",
      "\n",
      "Blob Name: LC08/01/001/002/LC08_L1GT_001002_20160817_20170322_01_T2/LC08_L1GT_001002_20160817_20170322_01_T2_B3.TIF\n",
      "Blob Size: 76813565\n",
      "\n",
      "Blob Name: LC08/01/001/002/LC08_L1GT_001002_20160817_20170322_01_T2/LC08_L1GT_001002_20160817_20170322_01_T2_B4.TIF\n",
      "Blob Size: 78510140\n",
      "\n",
      "Blob Name: LC08/01/001/002/LC08_L1GT_001002_20160817_20170322_01_T2/LC08_L1GT_001002_20160817_20170322_01_T2_B5.TIF\n",
      "Blob Size: 80344717\n",
      "\n",
      "Blob Name: LC08/01/001/002/LC08_L1GT_001002_20160817_20170322_01_T2/LC08_L1GT_001002_20160817_20170322_01_T2_B6.TIF\n",
      "Blob Size: 76416634\n",
      "\n",
      "Blob Name: LC08/01/001/002/LC08_L1GT_001002_20160817_20170322_01_T2/LC08_L1GT_001002_20160817_20170322_01_T2_B7.TIF\n",
      "Blob Size: 73888286\n",
      "\n"
     ]
    }
   ],
   "source": [
    "# Answer:\n",
    "blobs = bucket.list_blobs(max_results=10)  # Limit to 10 blobs for demonstration\n",
    "\n",
    "for blob in blobs:\n",
    "    print(f\"Blob Name: {blob.name}\")\n",
    "    print(f\"Blob Size: {blob.size}\\n\")"
   ]
  },
  {
   "cell_type": "markdown",
   "id": "f80ca40e",
   "metadata": {},
   "source": [
    "## Submission\n",
    "- Submit the URL of the GitHub Repository that contains your work to NTU black board.\n",
    "- Should you reference the work of your classmate(s) or online resources, give them credit by adding either the name of your classmate or URL."
   ]
  }
 ],
 "metadata": {
  "kernelspec": {
   "display_name": "bde",
   "language": "python",
   "name": "python3"
  },
  "language_info": {
   "codemirror_mode": {
    "name": "ipython",
    "version": 3
   },
   "file_extension": ".py",
   "mimetype": "text/x-python",
   "name": "python",
   "nbconvert_exporter": "python",
   "pygments_lexer": "ipython3",
   "version": "3.10.13"
  }
 },
 "nbformat": 4,
 "nbformat_minor": 5
}
